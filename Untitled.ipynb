{
 "cells": [
  {
   "cell_type": "code",
   "execution_count": null,
   "id": "fa74ecac",
   "metadata": {},
   "outputs": [],
   "source": [
    "# Import the modules\n",
    "import numpy as np\n",
    "import pandas as pd\n",
    "from pathlib import Path\n",
    "from sklearn.metrics import balanced_accuracy_score, confusion_matrix, classification_report"
   ]
  },
  {
   "cell_type": "code",
   "execution_count": null,
   "id": "9badef0b",
   "metadata": {},
   "outputs": [],
   "source": [
    "### SPLIT THE DATA INTO TRAINING AND TESTING SETS"
   ]
  },
  {
   "cell_type": "code",
   "execution_count": null,
   "id": "2bc93679",
   "metadata": {},
   "outputs": [],
   "source": [
    "## STEP 1: READ THE DATA FROM RESOURCES INTO A PANDAS DATAFRAME"
   ]
  },
  {
   "cell_type": "code",
   "execution_count": null,
   "id": "c9fc54e9",
   "metadata": {},
   "outputs": [],
   "source": [
    "# Read the CSV file from the Resources folder into a Pandas DataFrame\n",
    "# YOUR CODE HERE!\n",
    "\n",
    "# Review the DataFrame\n",
    "# YOUR CODE HERE!"
   ]
  },
  {
   "cell_type": "code",
   "execution_count": null,
   "id": "f2110337",
   "metadata": {},
   "outputs": [],
   "source": [
    "## STEP 2: CREATE LABELS FROM THE LOAN_STATUS COLUMN AND CREATE FEATURES DATAFRAME FROM REMAINING COLUMNS"
   ]
  },
  {
   "cell_type": "code",
   "execution_count": null,
   "id": "dfc46260",
   "metadata": {},
   "outputs": [],
   "source": [
    "# Separate the data into labels and features\n",
    "\n",
    "# Separate the y variable, the labels\n",
    "# YOUR CODE HERE!]\n",
    "\n",
    "# Separate the X variable, the features\n",
    "# YOUR CODE HERE!"
   ]
  },
  {
   "cell_type": "code",
   "execution_count": null,
   "id": "ddbab7e7",
   "metadata": {},
   "outputs": [],
   "source": [
    "# Review the y variable Series\n",
    "# YOUR CODE HERE!"
   ]
  },
  {
   "cell_type": "code",
   "execution_count": null,
   "id": "a88348dd",
   "metadata": {},
   "outputs": [],
   "source": [
    "# Review the X variable DataFrame\n",
    "# YOUR CODE HERE!"
   ]
  },
  {
   "cell_type": "code",
   "execution_count": null,
   "id": "d0035ea9",
   "metadata": {},
   "outputs": [],
   "source": [
    "## STEP 3: CHECK THE BALANCE OF THE LABELS VARIABLE USING THE VALUE_COUNTS FUNCTION."
   ]
  },
  {
   "cell_type": "code",
   "execution_count": null,
   "id": "39b1afa4",
   "metadata": {},
   "outputs": [],
   "source": [
    "# Check the balance of our target values\n",
    "# YOUR CODE HERE!"
   ]
  },
  {
   "cell_type": "code",
   "execution_count": null,
   "id": "2d5d249d",
   "metadata": {},
   "outputs": [],
   "source": [
    "## STEP 4: SPLIT THE DATA INTO TRAINING AND TESTING DATASETS USING TRAIN_TEST_SPLIT"
   ]
  },
  {
   "cell_type": "code",
   "execution_count": null,
   "id": "9a90ba3c",
   "metadata": {},
   "outputs": [],
   "source": [
    "# Import the train_test_learn module\n",
    "from sklearn.model_selection import train_test_split\n",
    "\n",
    "# Split the data using train_test_split\n",
    "# Assign a random_state of 1 to the function\n",
    "# YOUR CODE HERE!"
   ]
  },
  {
   "cell_type": "code",
   "execution_count": null,
   "id": "29387d74",
   "metadata": {},
   "outputs": [],
   "source": [
    "### CREATE A LOGIC REGRRESSION MODEL WITH THE ORIGINAL DATA"
   ]
  },
  {
   "cell_type": "code",
   "execution_count": null,
   "id": "1f1da9df",
   "metadata": {},
   "outputs": [],
   "source": [
    "## STEP 1: FIT A LOGISTIC REGRESSION MODEL USING THE TRAINING DATA"
   ]
  },
  {
   "cell_type": "code",
   "execution_count": null,
   "id": "094fbd0e",
   "metadata": {},
   "outputs": [],
   "source": [
    "# Import the LogisticRegression module from SKLearn\n",
    "from sklearn.linear_model import LogisticRegression\n",
    "\n",
    "# Instantiate the Logistic Regression model\n",
    "# Assign a random_state parameter of 1 to the model\n",
    "# YOUR CODE HERE!\n",
    "\n",
    "# Fit the model using training data\n",
    "# YOUR CODE HERE!"
   ]
  },
  {
   "cell_type": "code",
   "execution_count": null,
   "id": "c357e0cd",
   "metadata": {},
   "outputs": [],
   "source": [
    "## STEP 2: SAVE THE PREDICTIONS ON THE TESTING DATA BY USING THE TESTING FEATURE DATA AND THE FITTED MODEL"
   ]
  },
  {
   "cell_type": "code",
   "execution_count": null,
   "id": "33715aa6",
   "metadata": {},
   "outputs": [],
   "source": [
    "# Make a prediction using the testing data"
   ]
  },
  {
   "cell_type": "code",
   "execution_count": null,
   "id": "34b58f89",
   "metadata": {},
   "outputs": [],
   "source": [
    "## STEP 3: ELAVULATE THE MODEL'S PERFORMANCE BY DOING THE FOLLOWING:"
   ]
  },
  {
   "cell_type": "code",
   "execution_count": null,
   "id": "dc12ddf4",
   "metadata": {},
   "outputs": [],
   "source": [
    "## Calculate the accuracy score of the model.\n",
    "## Generate a confusion matrix\n",
    "## Print the classification report"
   ]
  },
  {
   "cell_type": "code",
   "execution_count": null,
   "id": "d3917c34",
   "metadata": {},
   "outputs": [],
   "source": [
    "# Print the balanced_accuracy score of the model\n"
   ]
  },
  {
   "cell_type": "code",
   "execution_count": null,
   "id": "92e59558",
   "metadata": {},
   "outputs": [],
   "source": [
    "# Generate a confusion matrix for the model"
   ]
  },
  {
   "cell_type": "code",
   "execution_count": null,
   "id": "30b4fb47",
   "metadata": {},
   "outputs": [],
   "source": [
    "# Print the classification report for the model\n",
    "# YOUR CODE HERE!"
   ]
  },
  {
   "cell_type": "code",
   "execution_count": null,
   "id": "64d6e78a",
   "metadata": {},
   "outputs": [],
   "source": [
    "## STEP 4: \n",
    "# QUESTION: HOW WELL DOES THE LOGISTIC REGRESSION MODEL PREDICT BOTH THE 0 AND 1 LABELS?\n",
    "# ANSWER:"
   ]
  },
  {
   "cell_type": "code",
   "execution_count": null,
   "id": "ff906789",
   "metadata": {},
   "outputs": [],
   "source": [
    "### PREDICT A LOGISTIC REGRESSION MODEL WITH RESAMPLED TRAINING DATA"
   ]
  },
  {
   "cell_type": "code",
   "execution_count": null,
   "id": "84c59126",
   "metadata": {},
   "outputs": [],
   "source": [
    "## STEP 1: USE THE RANDOMOVERSAMPLER MODULE FROM THE IMBALANCED-LEARN LIBRARY TO RESAMPLE THE DATA"
   ]
  },
  {
   "cell_type": "code",
   "execution_count": null,
   "id": "401593b8",
   "metadata": {},
   "outputs": [],
   "source": [
    "# Import the RandomOverSampler module form imbalanced-learn\n",
    "from imblearn.over_sampling import RandomOverSampler\n",
    "\n",
    "# Instantiate the random oversampler model\n",
    "# # Assign a random_state parameter of 1 to the model\n",
    "# YOUR CODE HERE!\n",
    "\n",
    "# Fit the original training data to the random_oversampler model\n",
    "# YOUR CODE HERE!"
   ]
  },
  {
   "cell_type": "code",
   "execution_count": null,
   "id": "4ac2a021",
   "metadata": {},
   "outputs": [],
   "source": [
    "# Count the distinct values of the resampled labels data\n",
    "# YOUR CODE HERE!"
   ]
  },
  {
   "cell_type": "code",
   "execution_count": null,
   "id": "ff5124b8",
   "metadata": {},
   "outputs": [],
   "source": [
    "## STEP 2: USE THE LOGISTICREGRESSION CLASSIFIER AND THE RESAMPLED DATA TO FIT THE MODEL AND MAKE PREDICTIONS"
   ]
  },
  {
   "cell_type": "code",
   "execution_count": null,
   "id": "4422856d",
   "metadata": {},
   "outputs": [],
   "source": [
    "# Instantiate the Logistic Regression model\n",
    "# Assign a random_state parameter of 1 to the model\n",
    "# YOUR CODE HERE!\n",
    "\n",
    "# Fit the model using the resampled training data\n",
    "# YOUR CODE HERE!\n",
    "\n",
    "# Make a prediction using the testing data\n",
    "# YOUR CODE HERE!"
   ]
  },
  {
   "cell_type": "code",
   "execution_count": null,
   "id": "d742bd24",
   "metadata": {},
   "outputs": [],
   "source": [
    "## STEP 3: EVALUATE THE MODEL'S PERFORMANCE BY DOING THE FOLLOWING:\n",
    "## Calculate the accuracy score of the model\n",
    "## Generate a confusion matrix"
   ]
  },
  {
   "cell_type": "code",
   "execution_count": null,
   "id": "103db773",
   "metadata": {},
   "outputs": [],
   "source": [
    "# Print the balanced_accuracy score of the model \n",
    "# YOUR CODE HERE!"
   ]
  },
  {
   "cell_type": "code",
   "execution_count": null,
   "id": "475c6f60",
   "metadata": {},
   "outputs": [],
   "source": [
    "# Generate a confusion matrix for the model\n",
    "# YOUR CODE HERE!"
   ]
  },
  {
   "cell_type": "code",
   "execution_count": null,
   "id": "71a3b2b6",
   "metadata": {},
   "outputs": [],
   "source": [
    "# Print the classification report for the model\n",
    "# YOUR CODE HERE!"
   ]
  },
  {
   "cell_type": "code",
   "execution_count": null,
   "id": "72bee198",
   "metadata": {},
   "outputs": [],
   "source": [
    "## STEP 4: \n",
    "## QUESTION: HOW WELL DOES THE LOGISTIC REGRESSION MODEL PREDICT BOTH THE 0 AND 1 LABELS?\n",
    "## ANSWER: "
   ]
  }
 ],
 "metadata": {
  "kernelspec": {
   "display_name": "Python 3 (ipykernel)",
   "language": "python",
   "name": "python3"
  },
  "language_info": {
   "codemirror_mode": {
    "name": "ipython",
    "version": 3
   },
   "file_extension": ".py",
   "mimetype": "text/x-python",
   "name": "python",
   "nbconvert_exporter": "python",
   "pygments_lexer": "ipython3",
   "version": "3.11.4"
  }
 },
 "nbformat": 4,
 "nbformat_minor": 5
}
